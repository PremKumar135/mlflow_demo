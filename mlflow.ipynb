{
 "cells": [
  {
   "cell_type": "code",
   "execution_count": 1,
   "id": "baf07b8e-dee0-4113-9500-b0f17c302f19",
   "metadata": {},
   "outputs": [
    {
     "name": "stdout",
     "output_type": "stream",
     "text": [
      "Overwriting example_mlflow.py\n"
     ]
    }
   ],
   "source": [
    "%%writefile example_mlflow.py\n",
    "\n",
    "import os\n",
    "import sys\n",
    "import warnings\n",
    "warnings.filterwarnings('ignore')\n",
    "import pandas as pd\n",
    "import numpy as np\n",
    "from sklearn.metrics import mean_squared_error, mean_absolute_error, r2_score\n",
    "from sklearn.model_selection import train_test_split\n",
    "from sklearn.linear_model import ElasticNet\n",
    "from urllib.parse import urlparse\n",
    "import mlflow\n",
    "from mlflow.models.signature import infer_signature\n",
    "import mlflow.sklearn\n",
    "import logging\n",
    "logging.basicConfig(level=logging.WARN)\n",
    "logger = logging.getLogger(__name__)\n",
    "\n",
    "def eval_metrics(actual,pred):\n",
    "    rmse = np.sqrt(mean_squared_error(actual,pred))\n",
    "    mae = mean_absolute_error(actual, pred)\n",
    "    r2 = r2_score(actual, pred)\n",
    "    return rmse, mae, r2\n",
    "\n",
    "if __name__==\"__main__\":\n",
    "\n",
    "    csv_url = (\n",
    "            \"http://archive.ics.uci.edu/ml/machine-learning-databases/wine-quality/winequality-red.csv\"\n",
    "        )\n",
    "    \n",
    "    try:\n",
    "        data = pd.read_csv(csv_url, sep=\";\")\n",
    "    except Exception as e:\n",
    "        logger.excetption(\"unable to download the training dataset: %s\", e)\n",
    "\n",
    "    ### splitting data\n",
    "    np.random.seed(40)\n",
    "    train, test = train_test_split(data)\n",
    "\n",
    "    ### getting x and y\n",
    "    train_x = train.drop(['quality'], axis=1)\n",
    "    test_x = test.drop(['quality'], axis=1)\n",
    "    train_y = train[['quality']]\n",
    "    test_y = test[['quality']]\n",
    "\n",
    "    ### alpha and l1_ratio\n",
    "    alpha = float(sys.argv[1]) if len(sys.argv)>1 else 0.5\n",
    "    l1_ratio = float(sys.argv[2]) if len(sys.argv)>2 else 0.5\n",
    "\n",
    "    ### starting mlflow tracking\n",
    "    with mlflow.start_run():\n",
    "        lr = ElasticNet(alpha=alpha, l1_ratio=l1_ratio, random_state=42)\n",
    "        lr.fit(train_x, train_y)\n",
    "        pred = lr.predict(test_x)\n",
    "\n",
    "        (rmse, mae, r2) = eval_metrics(test_y, pred)\n",
    "        print(f\"Elastic Net model: alpha{alpha}, l1_ratio:{l1_ratio}\")\n",
    "        print(f'RMSE: {rmse}')\n",
    "        print(f\"MAE :{mae}\")\n",
    "        print(f\"R2: {r2}\")\n",
    "\n",
    "        mlflow.log_param(\"alpha\", alpha)\n",
    "        mlflow.log_param(\"l1_ratio\", l1_ratio)\n",
    "        mlflow.log_metric(\"rmse\", rmse)\n",
    "        mlflow.log_metric(\"mae\", mae)\n",
    "        mlflow.log_metric(\"r2\", r2)\n",
    "\n",
    "        remote_server_uri = \"https://dagshub.com/PremKumar135/mlflow_demo.mlflow\"\n",
    "        mlflow.set_tracking_uri(remote_server_uri)\n",
    "\n",
    "        tracking_url_type_store = urlparse(mlflow.get_tracking_uri()).scheme\n",
    "        if tracking_url_type_store=='file':\n",
    "            mlflow.sklearn.log_model(lr, \"model\")\n",
    "        else:\n",
    "            mlflow.sklearn.log_model(lr, \"model\", registered_model_name=\"ElasticNetWineModel\")"
   ]
  },
  {
   "cell_type": "code",
   "execution_count": 2,
   "id": "31a9e977-19ef-47a7-8ed7-f3b217c562ce",
   "metadata": {},
   "outputs": [
    {
     "data": {
      "text/plain": [
       "'file:///Users/premkumar/my_pc/programming/mlflow/mlruns'"
      ]
     },
     "execution_count": 2,
     "metadata": {},
     "output_type": "execute_result"
    }
   ],
   "source": [
    "import mlflow\n",
    "mlflow.get_tracking_uri()"
   ]
  },
  {
   "cell_type": "code",
   "execution_count": null,
   "id": "f8ad605c-060c-4fc9-8efd-c971e6bb39e5",
   "metadata": {},
   "outputs": [],
   "source": []
  }
 ],
 "metadata": {
  "kernelspec": {
   "display_name": "mlops",
   "language": "python",
   "name": "mlops"
  },
  "language_info": {
   "codemirror_mode": {
    "name": "ipython",
    "version": 3
   },
   "file_extension": ".py",
   "mimetype": "text/x-python",
   "name": "python",
   "nbconvert_exporter": "python",
   "pygments_lexer": "ipython3",
   "version": "3.9.18"
  }
 },
 "nbformat": 4,
 "nbformat_minor": 5
}
